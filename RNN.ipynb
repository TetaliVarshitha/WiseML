{
  "nbformat": 4,
  "nbformat_minor": 0,
  "metadata": {
    "accelerator": "GPU",
    "colab": {
      "name": "RNN.ipynb",
      "provenance": [],
      "collapsed_sections": [],
      "mount_file_id": "1GByurcokel4mVj5qsYZsX8JtkCBUYwMr",
      "authorship_tag": "ABX9TyMpL6rFx44Y2rwGI2GgPQls",
      "include_colab_link": true
    },
    "kernelspec": {
      "display_name": "Python 3",
      "name": "python3"
    },
    "language_info": {
      "name": "python"
    }
  },
  "cells": [
    {
      "cell_type": "markdown",
      "metadata": {
        "id": "view-in-github",
        "colab_type": "text"
      },
      "source": [
        "<a href=\"https://colab.research.google.com/github/TetaliVarshitha/WiseML/blob/main/RNN.ipynb\" target=\"_parent\"><img src=\"https://colab.research.google.com/assets/colab-badge.svg\" alt=\"Open In Colab\"/></a>"
      ]
    },
    {
      "cell_type": "markdown",
      "metadata": {
        "id": "SKSOJFpH4JsZ"
      },
      "source": [
        "**Library Declaration:**"
      ]
    },
    {
      "cell_type": "code",
      "metadata": {
        "id": "i-kZcrN7NEz5"
      },
      "source": [
        "# try:\n",
        "#   %tensorflow_version 2.x\n",
        "# except Exception:\n",
        "#   pass\n",
        "# import tensorflow as tf"
      ],
      "execution_count": 3,
      "outputs": []
    },
    {
      "cell_type": "code",
      "metadata": {
        "id": "1w-QGtH-54Na"
      },
      "source": [
        "import os\n",
        "import numpy as np\n",
        "import pandas as pd\n",
        "import matplotlib.pyplot as plt\n",
        "import seaborn as sbn\n",
        "import warnings\n",
        "warnings.filterwarnings('ignore', category = RuntimeWarning)\n",
        "warnings.filterwarnings('ignore', category = UserWarning)\n",
        "\n",
        "# Importing Normalisation library\n",
        "from sklearn.preprocessing import MinMaxScaler\n",
        "\n",
        "# Importing Keras libraries and Packages\n",
        "from tensorflow.keras.models import Sequential\n",
        "from tensorflow.keras.layers import Dense\n",
        "from tensorflow.keras.layers import LSTM\n",
        "from tensorflow.keras.layers import Dropout\n",
        "\n",
        "# Importing Metrics libraries\n",
        "import math\n",
        "from sklearn.metrics import mean_squared_error\n",
        "\n",
        "# Importing TPU Setup Libraries\n",
        "# tf.enable_eager_execution()\n",
        "# from keras.backend import clear_session\n"
      ],
      "execution_count": 4,
      "outputs": []
    },
    {
      "cell_type": "code",
      "metadata": {
        "id": "mwcVDwegNMHg"
      },
      "source": [
        "# print(tf.__version__)"
      ],
      "execution_count": 5,
      "outputs": []
    },
    {
      "cell_type": "markdown",
      "metadata": {
        "id": "iJv00I-k4lgT"
      },
      "source": [
        "**TPU Setup:**"
      ]
    },
    {
      "cell_type": "code",
      "metadata": {
        "colab": {
          "base_uri": "https://localhost:8080/"
        },
        "id": "mhmadP7u4qHJ",
        "outputId": "7a6fb8ee-1616-4370-ab4d-916d9537d4c0"
      },
      "source": [
        "from google.colab import drive\n",
        "drive.mount('/content/drive')"
      ],
      "execution_count": 6,
      "outputs": [
        {
          "output_type": "stream",
          "text": [
            "Drive already mounted at /content/drive; to attempt to forcibly remount, call drive.mount(\"/content/drive\", force_remount=True).\n"
          ],
          "name": "stdout"
        }
      ]
    },
    {
      "cell_type": "code",
      "metadata": {
        "id": "XS90IW2vNSOp"
      },
      "source": [
        "# TPU_WORKER = 'grpc://' + os.environ['COLAB_TPU_ADDR']"
      ],
      "execution_count": 7,
      "outputs": []
    },
    {
      "cell_type": "code",
      "metadata": {
        "id": "B4HwrovANSM7"
      },
      "source": [
        "# clear_session()\n",
        "# tf.config.experimental_connect_to_host(TPU_WORKER)\n",
        "# resolver = tf.distribute.cluster_resolver.TPUClusterResolver(TPU_WORKER)\n",
        "# tf.tpu.experimental.initialize_tpu_system(resolver)\n",
        "# strategy = tf.distribute.experimental.TPUStrategy(resolver)"
      ],
      "execution_count": 8,
      "outputs": []
    },
    {
      "cell_type": "markdown",
      "metadata": {
        "id": "PtdBgJ694zpu"
      },
      "source": [
        "**Reading Data:**"
      ]
    },
    {
      "cell_type": "code",
      "metadata": {
        "id": "PyOVHHj14ue5"
      },
      "source": [
        "data_train = pd.read_csv('/content/drive/MyDrive/Machine Learning/food_train.csv')"
      ],
      "execution_count": 9,
      "outputs": []
    },
    {
      "cell_type": "markdown",
      "metadata": {
        "id": "1AiEWnuC5E3W"
      },
      "source": [
        "**Data Pre-processing:**"
      ]
    },
    {
      "cell_type": "code",
      "metadata": {
        "colab": {
          "base_uri": "https://localhost:8080/",
          "height": 204
        },
        "id": "yMtCLqtj4ubo",
        "outputId": "0626ee52-fd41-44f6-b7e3-6671bcd296e9"
      },
      "source": [
        "data_train.head()"
      ],
      "execution_count": 10,
      "outputs": [
        {
          "output_type": "execute_result",
          "data": {
            "text/html": [
              "<div>\n",
              "<style scoped>\n",
              "    .dataframe tbody tr th:only-of-type {\n",
              "        vertical-align: middle;\n",
              "    }\n",
              "\n",
              "    .dataframe tbody tr th {\n",
              "        vertical-align: top;\n",
              "    }\n",
              "\n",
              "    .dataframe thead th {\n",
              "        text-align: right;\n",
              "    }\n",
              "</style>\n",
              "<table border=\"1\" class=\"dataframe\">\n",
              "  <thead>\n",
              "    <tr style=\"text-align: right;\">\n",
              "      <th></th>\n",
              "      <th>id</th>\n",
              "      <th>week</th>\n",
              "      <th>center_id</th>\n",
              "      <th>meal_id</th>\n",
              "      <th>checkout_price</th>\n",
              "      <th>base_price</th>\n",
              "      <th>emailer_for_promotion</th>\n",
              "      <th>homepage_featured</th>\n",
              "      <th>num_orders</th>\n",
              "    </tr>\n",
              "  </thead>\n",
              "  <tbody>\n",
              "    <tr>\n",
              "      <th>0</th>\n",
              "      <td>1379560</td>\n",
              "      <td>1</td>\n",
              "      <td>55</td>\n",
              "      <td>1885</td>\n",
              "      <td>136.83</td>\n",
              "      <td>152.29</td>\n",
              "      <td>0</td>\n",
              "      <td>0</td>\n",
              "      <td>177</td>\n",
              "    </tr>\n",
              "    <tr>\n",
              "      <th>1</th>\n",
              "      <td>1466964</td>\n",
              "      <td>1</td>\n",
              "      <td>55</td>\n",
              "      <td>1993</td>\n",
              "      <td>136.83</td>\n",
              "      <td>135.83</td>\n",
              "      <td>0</td>\n",
              "      <td>0</td>\n",
              "      <td>270</td>\n",
              "    </tr>\n",
              "    <tr>\n",
              "      <th>2</th>\n",
              "      <td>1346989</td>\n",
              "      <td>1</td>\n",
              "      <td>55</td>\n",
              "      <td>2539</td>\n",
              "      <td>134.86</td>\n",
              "      <td>135.86</td>\n",
              "      <td>0</td>\n",
              "      <td>0</td>\n",
              "      <td>189</td>\n",
              "    </tr>\n",
              "    <tr>\n",
              "      <th>3</th>\n",
              "      <td>1338232</td>\n",
              "      <td>1</td>\n",
              "      <td>55</td>\n",
              "      <td>2139</td>\n",
              "      <td>339.50</td>\n",
              "      <td>437.53</td>\n",
              "      <td>0</td>\n",
              "      <td>0</td>\n",
              "      <td>54</td>\n",
              "    </tr>\n",
              "    <tr>\n",
              "      <th>4</th>\n",
              "      <td>1448490</td>\n",
              "      <td>1</td>\n",
              "      <td>55</td>\n",
              "      <td>2631</td>\n",
              "      <td>243.50</td>\n",
              "      <td>242.50</td>\n",
              "      <td>0</td>\n",
              "      <td>0</td>\n",
              "      <td>40</td>\n",
              "    </tr>\n",
              "  </tbody>\n",
              "</table>\n",
              "</div>"
            ],
            "text/plain": [
              "        id  week  ...  homepage_featured  num_orders\n",
              "0  1379560     1  ...                  0         177\n",
              "1  1466964     1  ...                  0         270\n",
              "2  1346989     1  ...                  0         189\n",
              "3  1338232     1  ...                  0          54\n",
              "4  1448490     1  ...                  0          40\n",
              "\n",
              "[5 rows x 9 columns]"
            ]
          },
          "metadata": {
            "tags": []
          },
          "execution_count": 10
        }
      ]
    },
    {
      "cell_type": "code",
      "metadata": {
        "colab": {
          "base_uri": "https://localhost:8080/"
        },
        "id": "UkT0Psa05Lr7",
        "outputId": "4d9dd2bb-f61f-4613-e396-40f55b6ade41"
      },
      "source": [
        "training_set = data_train.iloc[:, 1:2].values\n",
        "training_set"
      ],
      "execution_count": 11,
      "outputs": [
        {
          "output_type": "execute_result",
          "data": {
            "text/plain": [
              "array([[  1],\n",
              "       [  1],\n",
              "       [  1],\n",
              "       ...,\n",
              "       [145],\n",
              "       [145],\n",
              "       [145]])"
            ]
          },
          "metadata": {
            "tags": []
          },
          "execution_count": 11
        }
      ]
    },
    {
      "cell_type": "markdown",
      "metadata": {
        "id": "kexU1Y-H5Wb6"
      },
      "source": [
        "**Feature Scaling:**"
      ]
    },
    {
      "cell_type": "code",
      "metadata": {
        "id": "YIGddWqI5Lq3"
      },
      "source": [
        "sc = MinMaxScaler(feature_range= (0,1))"
      ],
      "execution_count": 12,
      "outputs": []
    },
    {
      "cell_type": "code",
      "metadata": {
        "colab": {
          "base_uri": "https://localhost:8080/"
        },
        "id": "v7WsVrmc5Lmy",
        "outputId": "e10ceb5f-0324-4140-ef33-c67984affa15"
      },
      "source": [
        "scaled_training_set = sc.fit_transform(training_set)\n",
        "scaled_training_set"
      ],
      "execution_count": 13,
      "outputs": [
        {
          "output_type": "execute_result",
          "data": {
            "text/plain": [
              "array([[0.],\n",
              "       [0.],\n",
              "       [0.],\n",
              "       ...,\n",
              "       [1.],\n",
              "       [1.],\n",
              "       [1.]])"
            ]
          },
          "metadata": {
            "tags": []
          },
          "execution_count": 13
        }
      ]
    },
    {
      "cell_type": "markdown",
      "metadata": {
        "id": "ijFNkjfg5jyR"
      },
      "source": [
        "**Creating Datastructure with 60 timesteps and 1 output:**"
      ]
    },
    {
      "cell_type": "code",
      "metadata": {
        "id": "Ibg17482Nhc7"
      },
      "source": [
        "## Using Tensorflow \n",
        "\n",
        "# dataset = tf.data.Dataset.from_tensor_slices(scaled_training_set)\n",
        "# dataset = dataset.window(61, shift=1,drop_remainder=True)\n",
        "# dataset = dataset.flat_map(lambda window: window.batch(61))\n",
        "# dataset = dataset.map(lambda window: (window[:-1], window[-1:]))\n",
        "# x_train = y_train = []\n",
        "# for x, y in dataset:\n",
        "#   x_train.append(x.numpy())\n",
        "#   y_train.append(y.numpy())"
      ],
      "execution_count": null,
      "outputs": []
    },
    {
      "cell_type": "code",
      "metadata": {
        "id": "Pz48uebk5LlZ"
      },
      "source": [
        "# Using Pandas and Slicing\n",
        "x_train, y_train = zip(*[(scaled_training_set[i-60:i, 0]\n",
        "                          ,scaled_training_set[i, 0])\n",
        "                          for i in range(60, 1258)])"
      ],
      "execution_count": 14,
      "outputs": []
    },
    {
      "cell_type": "code",
      "metadata": {
        "id": "cS-2lhXC4uZX"
      },
      "source": [
        "x_train, y_train = np.array(x_train), np.array(y_train)"
      ],
      "execution_count": 15,
      "outputs": []
    },
    {
      "cell_type": "code",
      "metadata": {
        "colab": {
          "base_uri": "https://localhost:8080/"
        },
        "id": "M7AwFyyF5yuT",
        "outputId": "634e3a4b-0a9c-4860-c198-e0bf476b6ce7"
      },
      "source": [
        "x_train.shape[1]"
      ],
      "execution_count": 16,
      "outputs": [
        {
          "output_type": "execute_result",
          "data": {
            "text/plain": [
              "60"
            ]
          },
          "metadata": {
            "tags": []
          },
          "execution_count": 16
        }
      ]
    },
    {
      "cell_type": "markdown",
      "metadata": {
        "id": "L7upX7ss522m"
      },
      "source": [
        "**Reshaping:**"
      ]
    },
    {
      "cell_type": "code",
      "metadata": {
        "id": "hfkgBcFQ5yp6"
      },
      "source": [
        "x_train = np.reshape(x_train, (x_train.shape[0], x_train.shape[1], 1))"
      ],
      "execution_count": 17,
      "outputs": []
    },
    {
      "cell_type": "markdown",
      "metadata": {
        "id": "p6MjrWwy6BP0"
      },
      "source": [
        "**Setting Model Parameters:**"
      ]
    },
    {
      "cell_type": "code",
      "metadata": {
        "id": "_6-HTfy15yow"
      },
      "source": [
        "INPUT_SHAPE = (x_train.shape[1], 1)\n",
        "BATCH_SIZE = 32"
      ],
      "execution_count": 18,
      "outputs": []
    },
    {
      "cell_type": "markdown",
      "metadata": {
        "id": "7kApE0yt6J37"
      },
      "source": [
        "**Model Creation:**"
      ]
    },
    {
      "cell_type": "code",
      "metadata": {
        "id": "k09D_97X5yky"
      },
      "source": [
        "# Step 1 - Initialising the RNN\n",
        "rnn_regressor = Sequential()"
      ],
      "execution_count": 19,
      "outputs": []
    },
    {
      "cell_type": "code",
      "metadata": {
        "id": "RA_s50Bt5yjR"
      },
      "source": [
        "# Step 2 - First LSTM and Droput Layer\n",
        "rnn_regressor.add(LSTM(units = 50, return_sequences = True, input_shape = INPUT_SHAPE))\n",
        "rnn_regressor.add(Dropout(0.2))"
      ],
      "execution_count": 20,
      "outputs": []
    },
    {
      "cell_type": "code",
      "metadata": {
        "id": "jThwfzlc6ayp"
      },
      "source": [
        "# Step 3 - Additional LSTM and Dropout Layers\n",
        "rnn_regressor.add(LSTM(units = 50, return_sequences = True))\n",
        "rnn_regressor.add(Dropout(0.2))\n",
        "\n",
        "rnn_regressor.add(LSTM(units = 75, return_sequences = True))\n",
        "rnn_regressor.add(Dropout(0.2))\n",
        "\n",
        "rnn_regressor.add(LSTM(units = 100, return_sequences = True))\n",
        "rnn_regressor.add(Dropout(0.2))\n",
        "\n",
        "rnn_regressor.add(LSTM(units = 100))\n",
        "rnn_regressor.add(Dropout(0.2))"
      ],
      "execution_count": 21,
      "outputs": []
    },
    {
      "cell_type": "code",
      "metadata": {
        "id": "QgnePp8c6axR"
      },
      "source": [
        "# Step 4 - Full Connection\n",
        "rnn_regressor.add(Dense(units = 1))"
      ],
      "execution_count": 22,
      "outputs": []
    },
    {
      "cell_type": "code",
      "metadata": {
        "id": "S5XdVSSH6as_"
      },
      "source": [
        "# Compiling the RNN\n",
        "rnn_regressor.compile(optimizer = 'adam', loss = 'mean_squared_error')"
      ],
      "execution_count": 23,
      "outputs": []
    },
    {
      "cell_type": "code",
      "metadata": {
        "colab": {
          "base_uri": "https://localhost:8080/"
        },
        "id": "iqjyibVD6ari",
        "outputId": "14754e05-5892-43c7-d883-75b5d702c1c0"
      },
      "source": [
        "# Summary of RNN model\n",
        "rnn_regressor.summary()"
      ],
      "execution_count": 24,
      "outputs": [
        {
          "output_type": "stream",
          "text": [
            "Model: \"sequential\"\n",
            "_________________________________________________________________\n",
            "Layer (type)                 Output Shape              Param #   \n",
            "=================================================================\n",
            "lstm (LSTM)                  (None, 60, 50)            10400     \n",
            "_________________________________________________________________\n",
            "dropout (Dropout)            (None, 60, 50)            0         \n",
            "_________________________________________________________________\n",
            "lstm_1 (LSTM)                (None, 60, 50)            20200     \n",
            "_________________________________________________________________\n",
            "dropout_1 (Dropout)          (None, 60, 50)            0         \n",
            "_________________________________________________________________\n",
            "lstm_2 (LSTM)                (None, 60, 75)            37800     \n",
            "_________________________________________________________________\n",
            "dropout_2 (Dropout)          (None, 60, 75)            0         \n",
            "_________________________________________________________________\n",
            "lstm_3 (LSTM)                (None, 60, 100)           70400     \n",
            "_________________________________________________________________\n",
            "dropout_3 (Dropout)          (None, 60, 100)           0         \n",
            "_________________________________________________________________\n",
            "lstm_4 (LSTM)                (None, 100)               80400     \n",
            "_________________________________________________________________\n",
            "dropout_4 (Dropout)          (None, 100)               0         \n",
            "_________________________________________________________________\n",
            "dense (Dense)                (None, 1)                 101       \n",
            "=================================================================\n",
            "Total params: 219,301\n",
            "Trainable params: 219,301\n",
            "Non-trainable params: 0\n",
            "_________________________________________________________________\n"
          ],
          "name": "stdout"
        }
      ]
    },
    {
      "cell_type": "markdown",
      "metadata": {
        "id": "nsVkY1Cb61Tj"
      },
      "source": [
        "**Train the RNN Model:**"
      ]
    },
    {
      "cell_type": "code",
      "metadata": {
        "colab": {
          "base_uri": "https://localhost:8080/"
        },
        "id": "H6aVGPVX6wNn",
        "outputId": "7da7b41b-11ed-4c91-9e98-1f8c1180aa35"
      },
      "source": [
        "EPOCHS = 100\n",
        "history = rnn_regressor.fit(\n",
        "    x = x_train,\n",
        "    y = y_train,\n",
        "    epochs = EPOCHS,\n",
        "    batch_size = BATCH_SIZE\n",
        ")"
      ],
      "execution_count": 25,
      "outputs": [
        {
          "output_type": "stream",
          "text": [
            "Epoch 1/100\n",
            "38/38 [==============================] - 16s 197ms/step - loss: 0.0000e+00\n",
            "Epoch 2/100\n",
            "38/38 [==============================] - 8s 201ms/step - loss: 0.0000e+00\n",
            "Epoch 3/100\n",
            "38/38 [==============================] - 8s 201ms/step - loss: 0.0000e+00\n",
            "Epoch 4/100\n",
            "38/38 [==============================] - 8s 199ms/step - loss: 0.0000e+00\n",
            "Epoch 5/100\n",
            "38/38 [==============================] - 8s 200ms/step - loss: 0.0000e+00\n",
            "Epoch 6/100\n",
            "38/38 [==============================] - 8s 201ms/step - loss: 0.0000e+00\n",
            "Epoch 7/100\n",
            "38/38 [==============================] - 8s 199ms/step - loss: 0.0000e+00\n",
            "Epoch 8/100\n",
            "38/38 [==============================] - 8s 201ms/step - loss: 0.0000e+00\n",
            "Epoch 9/100\n",
            "38/38 [==============================] - 8s 201ms/step - loss: 0.0000e+00\n",
            "Epoch 10/100\n",
            "38/38 [==============================] - 8s 201ms/step - loss: 0.0000e+00\n",
            "Epoch 11/100\n",
            "38/38 [==============================] - 8s 200ms/step - loss: 0.0000e+00\n",
            "Epoch 12/100\n",
            "38/38 [==============================] - 8s 202ms/step - loss: 0.0000e+00\n",
            "Epoch 13/100\n",
            "38/38 [==============================] - 8s 200ms/step - loss: 0.0000e+00\n",
            "Epoch 14/100\n",
            "38/38 [==============================] - 8s 200ms/step - loss: 0.0000e+00\n",
            "Epoch 15/100\n",
            "38/38 [==============================] - 8s 200ms/step - loss: 0.0000e+00\n",
            "Epoch 16/100\n",
            "38/38 [==============================] - 8s 203ms/step - loss: 0.0000e+00\n",
            "Epoch 17/100\n",
            "38/38 [==============================] - 8s 200ms/step - loss: 0.0000e+00\n",
            "Epoch 18/100\n",
            "38/38 [==============================] - 8s 199ms/step - loss: 0.0000e+00\n",
            "Epoch 19/100\n",
            "38/38 [==============================] - 8s 201ms/step - loss: 0.0000e+00\n",
            "Epoch 20/100\n",
            "38/38 [==============================] - 8s 201ms/step - loss: 0.0000e+00\n",
            "Epoch 21/100\n",
            "38/38 [==============================] - 8s 199ms/step - loss: 0.0000e+00\n",
            "Epoch 22/100\n",
            "38/38 [==============================] - 8s 200ms/step - loss: 0.0000e+00\n",
            "Epoch 23/100\n",
            "38/38 [==============================] - 8s 201ms/step - loss: 0.0000e+00\n",
            "Epoch 24/100\n",
            "38/38 [==============================] - 8s 200ms/step - loss: 0.0000e+00\n",
            "Epoch 25/100\n",
            "38/38 [==============================] - 8s 199ms/step - loss: 0.0000e+00\n",
            "Epoch 26/100\n",
            "38/38 [==============================] - 8s 199ms/step - loss: 0.0000e+00\n",
            "Epoch 27/100\n",
            "38/38 [==============================] - 8s 199ms/step - loss: 0.0000e+00\n",
            "Epoch 28/100\n",
            "38/38 [==============================] - 8s 201ms/step - loss: 0.0000e+00\n",
            "Epoch 29/100\n",
            "38/38 [==============================] - 8s 200ms/step - loss: 0.0000e+00\n",
            "Epoch 30/100\n",
            "38/38 [==============================] - 8s 202ms/step - loss: 0.0000e+00\n",
            "Epoch 31/100\n",
            "38/38 [==============================] - 8s 199ms/step - loss: 0.0000e+00\n",
            "Epoch 32/100\n",
            "38/38 [==============================] - 8s 199ms/step - loss: 0.0000e+00\n",
            "Epoch 33/100\n",
            "38/38 [==============================] - 8s 199ms/step - loss: 0.0000e+00\n",
            "Epoch 34/100\n",
            "38/38 [==============================] - 8s 201ms/step - loss: 0.0000e+00\n",
            "Epoch 35/100\n",
            "38/38 [==============================] - 8s 199ms/step - loss: 0.0000e+00\n",
            "Epoch 36/100\n",
            "38/38 [==============================] - 8s 201ms/step - loss: 0.0000e+00\n",
            "Epoch 37/100\n",
            "38/38 [==============================] - 8s 201ms/step - loss: 0.0000e+00\n",
            "Epoch 38/100\n",
            "38/38 [==============================] - 8s 205ms/step - loss: 0.0000e+00\n",
            "Epoch 39/100\n",
            "38/38 [==============================] - 8s 200ms/step - loss: 0.0000e+00\n",
            "Epoch 40/100\n",
            "38/38 [==============================] - 8s 201ms/step - loss: 0.0000e+00\n",
            "Epoch 41/100\n",
            "38/38 [==============================] - 8s 201ms/step - loss: 0.0000e+00\n",
            "Epoch 42/100\n",
            "38/38 [==============================] - 8s 202ms/step - loss: 0.0000e+00\n",
            "Epoch 43/100\n",
            "38/38 [==============================] - 8s 200ms/step - loss: 0.0000e+00\n",
            "Epoch 44/100\n",
            "38/38 [==============================] - 8s 201ms/step - loss: 0.0000e+00\n",
            "Epoch 45/100\n",
            "38/38 [==============================] - 8s 201ms/step - loss: 0.0000e+00\n",
            "Epoch 46/100\n",
            "38/38 [==============================] - 8s 203ms/step - loss: 0.0000e+00\n",
            "Epoch 47/100\n",
            "38/38 [==============================] - 8s 200ms/step - loss: 0.0000e+00\n",
            "Epoch 48/100\n",
            "38/38 [==============================] - 8s 224ms/step - loss: 0.0000e+00\n",
            "Epoch 49/100\n",
            "38/38 [==============================] - 9s 236ms/step - loss: 0.0000e+00\n",
            "Epoch 50/100\n",
            "38/38 [==============================] - 8s 201ms/step - loss: 0.0000e+00\n",
            "Epoch 51/100\n",
            "38/38 [==============================] - 8s 203ms/step - loss: 0.0000e+00\n",
            "Epoch 52/100\n",
            "38/38 [==============================] - 8s 199ms/step - loss: 0.0000e+00\n",
            "Epoch 53/100\n",
            "38/38 [==============================] - 8s 203ms/step - loss: 0.0000e+00\n",
            "Epoch 54/100\n",
            "38/38 [==============================] - 8s 204ms/step - loss: 0.0000e+00\n",
            "Epoch 55/100\n",
            "38/38 [==============================] - 8s 202ms/step - loss: 0.0000e+00\n",
            "Epoch 56/100\n",
            "38/38 [==============================] - 8s 203ms/step - loss: 0.0000e+00\n",
            "Epoch 57/100\n",
            "38/38 [==============================] - 8s 201ms/step - loss: 0.0000e+00\n",
            "Epoch 58/100\n",
            "38/38 [==============================] - 8s 201ms/step - loss: 0.0000e+00\n",
            "Epoch 59/100\n",
            "38/38 [==============================] - 8s 204ms/step - loss: 0.0000e+00\n",
            "Epoch 60/100\n",
            "38/38 [==============================] - 8s 204ms/step - loss: 0.0000e+00\n",
            "Epoch 61/100\n",
            "38/38 [==============================] - 8s 201ms/step - loss: 0.0000e+00\n",
            "Epoch 62/100\n",
            "38/38 [==============================] - 8s 203ms/step - loss: 0.0000e+00\n",
            "Epoch 63/100\n",
            "38/38 [==============================] - 8s 202ms/step - loss: 0.0000e+00\n",
            "Epoch 64/100\n",
            "38/38 [==============================] - 8s 202ms/step - loss: 0.0000e+00\n",
            "Epoch 65/100\n",
            "38/38 [==============================] - 8s 203ms/step - loss: 0.0000e+00\n",
            "Epoch 66/100\n",
            "38/38 [==============================] - 8s 203ms/step - loss: 0.0000e+00\n",
            "Epoch 67/100\n",
            "38/38 [==============================] - 8s 205ms/step - loss: 0.0000e+00\n",
            "Epoch 68/100\n",
            "38/38 [==============================] - 8s 201ms/step - loss: 0.0000e+00\n",
            "Epoch 69/100\n",
            "38/38 [==============================] - 8s 206ms/step - loss: 0.0000e+00\n",
            "Epoch 70/100\n",
            "38/38 [==============================] - 8s 208ms/step - loss: 0.0000e+00\n",
            "Epoch 71/100\n",
            "38/38 [==============================] - 8s 209ms/step - loss: 0.0000e+00\n",
            "Epoch 72/100\n",
            "38/38 [==============================] - 8s 207ms/step - loss: 0.0000e+00\n",
            "Epoch 73/100\n",
            "38/38 [==============================] - 8s 203ms/step - loss: 0.0000e+00\n",
            "Epoch 74/100\n",
            "38/38 [==============================] - 8s 205ms/step - loss: 0.0000e+00\n",
            "Epoch 75/100\n",
            "38/38 [==============================] - 8s 205ms/step - loss: 0.0000e+00\n",
            "Epoch 76/100\n",
            "38/38 [==============================] - 8s 202ms/step - loss: 0.0000e+00\n",
            "Epoch 77/100\n",
            "38/38 [==============================] - 8s 207ms/step - loss: 0.0000e+00\n",
            "Epoch 78/100\n",
            "38/38 [==============================] - 8s 206ms/step - loss: 0.0000e+00\n",
            "Epoch 79/100\n",
            "38/38 [==============================] - 8s 205ms/step - loss: 0.0000e+00\n",
            "Epoch 80/100\n",
            "38/38 [==============================] - 8s 205ms/step - loss: 0.0000e+00\n",
            "Epoch 81/100\n",
            "38/38 [==============================] - 8s 203ms/step - loss: 0.0000e+00\n",
            "Epoch 82/100\n",
            "38/38 [==============================] - 8s 203ms/step - loss: 0.0000e+00\n",
            "Epoch 83/100\n",
            "38/38 [==============================] - 8s 204ms/step - loss: 0.0000e+00\n",
            "Epoch 84/100\n",
            "38/38 [==============================] - 8s 205ms/step - loss: 0.0000e+00\n",
            "Epoch 85/100\n",
            "38/38 [==============================] - 8s 207ms/step - loss: 0.0000e+00\n",
            "Epoch 86/100\n",
            "38/38 [==============================] - 8s 208ms/step - loss: 0.0000e+00\n",
            "Epoch 87/100\n",
            "38/38 [==============================] - 8s 209ms/step - loss: 0.0000e+00\n",
            "Epoch 88/100\n",
            "38/38 [==============================] - 8s 211ms/step - loss: 0.0000e+00\n",
            "Epoch 89/100\n",
            "38/38 [==============================] - 8s 207ms/step - loss: 0.0000e+00\n",
            "Epoch 90/100\n",
            "38/38 [==============================] - 8s 203ms/step - loss: 0.0000e+00\n",
            "Epoch 91/100\n",
            "38/38 [==============================] - 8s 203ms/step - loss: 0.0000e+00\n",
            "Epoch 92/100\n",
            "38/38 [==============================] - 8s 205ms/step - loss: 0.0000e+00\n",
            "Epoch 93/100\n",
            "38/38 [==============================] - 8s 208ms/step - loss: 0.0000e+00\n",
            "Epoch 94/100\n",
            "38/38 [==============================] - 8s 203ms/step - loss: 0.0000e+00\n",
            "Epoch 95/100\n",
            "38/38 [==============================] - 8s 207ms/step - loss: 0.0000e+00\n",
            "Epoch 96/100\n",
            "38/38 [==============================] - 8s 204ms/step - loss: 0.0000e+00\n",
            "Epoch 97/100\n",
            "38/38 [==============================] - 8s 204ms/step - loss: 0.0000e+00\n",
            "Epoch 98/100\n",
            "38/38 [==============================] - 8s 204ms/step - loss: 0.0000e+00\n",
            "Epoch 99/100\n",
            "38/38 [==============================] - 8s 204ms/step - loss: 0.0000e+00\n",
            "Epoch 100/100\n",
            "38/38 [==============================] - 8s 208ms/step - loss: 0.0000e+00\n"
          ],
          "name": "stdout"
        }
      ]
    },
    {
      "cell_type": "markdown",
      "metadata": {
        "id": "4b8J6Cah76De"
      },
      "source": [
        "**Prediction and Visualising the Result:**"
      ]
    },
    {
      "cell_type": "code",
      "metadata": {
        "id": "pWjWFt2-6wKL"
      },
      "source": [
        "data_test = pd.read_csv('/content/drive/MyDrive/Machine Learning/food_test.csv')"
      ],
      "execution_count": 26,
      "outputs": []
    },
    {
      "cell_type": "code",
      "metadata": {
        "id": "e8MJNyJY6wIU"
      },
      "source": [
        "# Real stock Price\n",
        "real_stock_price = data_test.iloc[:, 1:2].values"
      ],
      "execution_count": 27,
      "outputs": []
    },
    {
      "cell_type": "code",
      "metadata": {
        "colab": {
          "base_uri": "https://localhost:8080/"
        },
        "id": "tqPwltHU6wDi",
        "outputId": "6b849775-f55a-43d7-a01a-19a75ad79235"
      },
      "source": [
        "real_stock_price"
      ],
      "execution_count": 28,
      "outputs": [
        {
          "output_type": "execute_result",
          "data": {
            "text/plain": [
              "array([[146],\n",
              "       [146],\n",
              "       [146],\n",
              "       ...,\n",
              "       [155],\n",
              "       [155],\n",
              "       [155]])"
            ]
          },
          "metadata": {
            "tags": []
          },
          "execution_count": 28
        }
      ]
    },
    {
      "cell_type": "code",
      "metadata": {
        "id": "Y-EJdNUq8oDh"
      },
      "source": [
        "# Predicting Stock Price of Jan 2017\n",
        "data_total = pd.concat((data_train['week'], data_test['week']), axis = 0)\n",
        "inputs = data_total[len(data_total) - len(data_test) - 60:].values  # values for making this a numpy array\n",
        "\n",
        "# Reshaping\n",
        "inputs = inputs.reshape(-1,1)"
      ],
      "execution_count": 69,
      "outputs": []
    },
    {
      "cell_type": "code",
      "metadata": {
        "id": "N5MIiH1B8oCN"
      },
      "source": [
        "# Scaling\n",
        "inputs = sc.transform(inputs) # transform must be used instead of fit_transform to apply the same tranformation which occured in the training set "
      ],
      "execution_count": 70,
      "outputs": []
    },
    {
      "cell_type": "code",
      "metadata": {
        "id": "RI0ZACzQ8n-x"
      },
      "source": [
        "# Creating Datastructure with 60 timesteps for test data\n",
        "x_test = [inputs[i-60:i, 0] for i in range(60, 80)]    # For 20 Financial days\n",
        "x_test = np.array(x_test)"
      ],
      "execution_count": 71,
      "outputs": []
    },
    {
      "cell_type": "code",
      "metadata": {
        "id": "8dWY_Ue98n9F"
      },
      "source": [
        "# Reshaping\n",
        "x_test = np.reshape(x_test, (x_test.shape[0], x_test.shape[1], 1))"
      ],
      "execution_count": 72,
      "outputs": []
    },
    {
      "cell_type": "markdown",
      "metadata": {
        "id": "GRYCv2Vw9aJC"
      },
      "source": [
        "**Prediction of Test Data with Trained RNN:**"
      ]
    },
    {
      "cell_type": "code",
      "metadata": {
        "id": "L17LgaRR6wCE"
      },
      "source": [
        "predicted_stock_price = rnn_regressor.predict(x_test)"
      ],
      "execution_count": 73,
      "outputs": []
    },
    {
      "cell_type": "code",
      "metadata": {
        "id": "kRIZeGm19jg5"
      },
      "source": [
        "# Inversing the scaled data to original\n",
        "predicted_stock_price = sc.inverse_transform(predicted_stock_price)"
      ],
      "execution_count": 74,
      "outputs": []
    },
    {
      "cell_type": "code",
      "metadata": {
        "colab": {
          "base_uri": "https://localhost:8080/"
        },
        "id": "XlxnuNYV9jcK",
        "outputId": "79a089d0-f769-4e2e-f769-e8316258e2f5"
      },
      "source": [
        "predicted_stock_price"
      ],
      "execution_count": 75,
      "outputs": [
        {
          "output_type": "execute_result",
          "data": {
            "text/plain": [
              "array([[2.460721 ],\n",
              "       [2.4607177],\n",
              "       [2.4607105],\n",
              "       [2.4607062],\n",
              "       [2.4607122],\n",
              "       [2.4607387],\n",
              "       [2.4607992],\n",
              "       [2.4609056],\n",
              "       [2.4610658],\n",
              "       [2.4612849],\n",
              "       [2.461566 ],\n",
              "       [2.461906 ],\n",
              "       [2.4622977],\n",
              "       [2.462732 ],\n",
              "       [2.4631972],\n",
              "       [2.4636815],\n",
              "       [2.464169 ],\n",
              "       [2.4646506],\n",
              "       [2.4651127],\n",
              "       [2.4655461]], dtype=float32)"
            ]
          },
          "metadata": {
            "tags": []
          },
          "execution_count": 75
        }
      ]
    },
    {
      "cell_type": "markdown",
      "metadata": {
        "id": "LezlNWcg9xBr"
      },
      "source": [
        "**Visualisation:**"
      ]
    },
    {
      "cell_type": "code",
      "metadata": {
        "id": "AxznoW9r9jai",
        "colab": {
          "base_uri": "https://localhost:8080/",
          "height": 350
        },
        "outputId": "256b10ea-78eb-4b14-ead7-4a4a99ca5123"
      },
      "source": [
        "plt.figure(figsize=(16, 5))\n",
        "plt.plot(real_stock_price, color = 'blue', label = 'Real Food Demand Price of JAN 2017')\n",
        "plt.plot(predicted_stock_price, color = 'orange', label = 'Predicted Food Demand Price of JAN 2017')\n",
        "plt.title('Food Demand Forecasting Prediction')\n",
        "plt.xlabel('Time')\n",
        "plt.ylabel('Food Price')\n",
        "plt.legend(loc='upper left')\n",
        "plt.show()"
      ],
      "execution_count": 76,
      "outputs": [
        {
          "output_type": "display_data",
          "data": {
            "image/png": "[encoded data removed]",
            "text/plain": [
              "<Figure size 1152x360 with 1 Axes>"
            ]
          },
          "metadata": {
            "tags": [],
            "needs_background": "light"
          }
        }
      ]
    }
  ]
}